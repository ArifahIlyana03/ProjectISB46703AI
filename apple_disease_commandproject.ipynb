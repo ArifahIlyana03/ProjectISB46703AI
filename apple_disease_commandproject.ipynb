{
 "cells": [
  {
   "cell_type": "markdown",
   "metadata": {},
   "source": [
    "# **ISB46703 PRINCIPLES OF ARTIFICIAL INTELLIGENCE**"
   ]
  },
  {
   "cell_type": "markdown",
   "metadata": {},
   "source": [
    "# **Apple disease classification**"
   ]
  },
  {
   "cell_type": "markdown",
   "metadata": {},
   "source": [
    "Arifah Ilyana Binti Mohd Haminuddin (52213224342)\n",
    "\n",
    "Nurul Majdina binti Mahazer (52223224016)\n",
    "\n",
    "Nurul Nabila binti muhammad huszaidi (522213123104)"
   ]
  },
  {
   "cell_type": "code",
   "execution_count": null,
   "metadata": {
    "colab": {
     "base_uri": "https://localhost:8080/"
    },
    "executionInfo": {
     "elapsed": 23411,
     "status": "ok",
     "timestamp": 1749033985326,
     "user": {
      "displayName": "Arifah Haminuddin",
      "userId": "03118848497063943085"
     },
     "user_tz": -480
    },
    "id": "rdzs2q03DWO3",
    "outputId": "5b4b5fff-5309-44e8-c9f9-696f8b84d2a6"
   },
   "outputs": [
    {
     "name": "stdout",
     "output_type": "stream",
     "text": [
      "Mounted at /content/drive\n",
      "/content/drive/My Drive\n"
     ]
    }
   ],
   "source": [
    "from google.colab import drive\n",
    "drive.mount('/content/drive')\n",
    "%cd /content/drive/My Drive/"
   ]
  },
  {
   "cell_type": "code",
   "execution_count": 1,
   "metadata": {
    "executionInfo": {
     "elapsed": 3639,
     "status": "ok",
     "timestamp": 1749102898313,
     "user": {
      "displayName": "Arifah Haminuddin",
      "userId": "03118848497063943085"
     },
     "user_tz": -480
    },
    "id": "7HwiuWnrD3O5"
   },
   "outputs": [],
   "source": [
    "import numpy as np\n",
    "import tensorflow as tf\n",
    "from tensorflow import keras\n",
    "from tensorflow.keras.models import Sequential\n",
    "from tensorflow.keras.layers import Activation, Dense,Flatten,BatchNormalization,Conv2D, MaxPool2D\n",
    "from tensorflow.keras.optimizers import Adam\n",
    "from tensorflow.keras.metrics import categorical_crossentropy\n",
    "from tensorflow.keras.preprocessing.image import ImageDataGenerator\n",
    "from sklearn.metrics import confusion_matrix\n",
    "import itertools\n",
    "import os\n",
    "import shutil\n",
    "import random\n",
    "import glob\n",
    "import matplotlib.pyplot as plt\n",
    "import warnings\n",
    "warnings.simplefilter(action='ignore', category=FutureWarning)\n",
    "%matplotlib inline"
   ]
  },
  {
   "cell_type": "markdown",
   "metadata": {
    "id": "fI1P3y2n3HYZ"
   },
   "source": [
    "# **ResNet50**\n"
   ]
  },
  {
   "cell_type": "code",
   "execution_count": 2,
   "metadata": {
    "executionInfo": {
     "elapsed": 9,
     "status": "ok",
     "timestamp": 1749102900714,
     "user": {
      "displayName": "Arifah Haminuddin",
      "userId": "03118848497063943085"
     },
     "user_tz": -480
    },
    "id": "pLhfA5R2triY"
   },
   "outputs": [],
   "source": [
    "import numpy as np\n",
    "import matplotlib.pyplot as plt\n",
    "import itertools\n",
    "import os\n",
    "import tensorflow as tf\n",
    "from tensorflow.keras.preprocessing.image import ImageDataGenerator\n",
    "from tensorflow.keras.applications import ResNet50\n",
    "from tensorflow.keras.applications.resnet50 import preprocess_input\n",
    "from tensorflow.keras.models import Model\n",
    "from tensorflow.keras.layers import Dense, Dropout, GlobalAveragePooling2D\n",
    "from tensorflow.keras.optimizers import Adam\n",
    "from sklearn.metrics import confusion_matrix\n",
    "\n",
    "# Suppress warnings\n",
    "import warnings\n",
    "warnings.simplefilter(action='ignore', category=FutureWarning)"
   ]
  },
  {
   "cell_type": "code",
   "execution_count": 3,
   "metadata": {
    "executionInfo": {
     "elapsed": 44,
     "status": "ok",
     "timestamp": 1749102910167,
     "user": {
      "displayName": "Arifah Haminuddin",
      "userId": "03118848497063943085"
     },
     "user_tz": -480
    },
    "id": "m6tt6EKN4Omc"
   },
   "outputs": [],
   "source": [
    "# Set paths\n",
    "train_path = '/content/drive/MyDrive/apple/train'\n",
    "valid_path = '/content/drive/MyDrive/apple/valid'\n",
    "test_path = '/content/drive/MyDrive/apple/test'"
   ]
  },
  {
   "cell_type": "code",
   "execution_count": 4,
   "metadata": {
    "executionInfo": {
     "elapsed": 4,
     "status": "ok",
     "timestamp": 1749102915798,
     "user": {
      "displayName": "Arifah Haminuddin",
      "userId": "03118848497063943085"
     },
     "user_tz": -480
    },
    "id": "T0WoSypxweyI"
   },
   "outputs": [],
   "source": [
    "# Define class labels\n",
    "class_labels = ['healthy', 'rot', 'rust', 'scab']"
   ]
  },
  {
   "cell_type": "code",
   "execution_count": 5,
   "metadata": {
    "colab": {
     "base_uri": "https://localhost:8080/"
    },
    "executionInfo": {
     "elapsed": 8276,
     "status": "ok",
     "timestamp": 1749102926586,
     "user": {
      "displayName": "Arifah Haminuddin",
      "userId": "03118848497063943085"
     },
     "user_tz": -480
    },
    "id": "7eUcjYVcvKFu",
    "outputId": "4e7fcb3e-a09b-43fc-d7dd-39c38c2051e7"
   },
   "outputs": [
    {
     "name": "stdout",
     "output_type": "stream",
     "text": [
      "Found 3523 images belonging to 4 classes.\n",
      "Found 3528 images belonging to 4 classes.\n",
      "Found 720 images belonging to 4 classes.\n"
     ]
    }
   ],
   "source": [
    "# Data generators\n",
    "train_datagen = ImageDataGenerator(preprocessing_function=preprocess_input)\n",
    "valid_datagen = ImageDataGenerator(preprocessing_function=preprocess_input)\n",
    "test_datagen = ImageDataGenerator(preprocessing_function=preprocess_input)\n",
    "\n",
    "train_batches = train_datagen.flow_from_directory(\n",
    "    directory=train_path,\n",
    "    target_size=(128,128),\n",
    "    classes=class_labels,\n",
    "    batch_size=8\n",
    ")\n",
    "\n",
    "valid_batches = valid_datagen.flow_from_directory(\n",
    "    directory=valid_path,\n",
    "    target_size=(128,128),\n",
    "    classes=class_labels,\n",
    "    batch_size=8\n",
    ")\n",
    "\n",
    "test_batches = test_datagen.flow_from_directory(\n",
    "    directory=test_path,\n",
    "    target_size=(128,128),\n",
    "    classes=class_labels,\n",
    "    batch_size=8,\n",
    "   shuffle=False\n",
    ")"
   ]
  },
  {
   "cell_type": "code",
   "execution_count": 6,
   "metadata": {
    "colab": {
     "base_uri": "https://localhost:8080/"
    },
    "executionInfo": {
     "elapsed": 2927,
     "status": "ok",
     "timestamp": 1749102936422,
     "user": {
      "displayName": "Arifah Haminuddin",
      "userId": "03118848497063943085"
     },
     "user_tz": -480
    },
    "id": "aBshwCINwC0A",
    "outputId": "49d8ebc9-0e43-4e69-c819-fe61210a4ba3"
   },
   "outputs": [
    {
     "name": "stdout",
     "output_type": "stream",
     "text": [
      "Downloading data from https://storage.googleapis.com/tensorflow/keras-applications/resnet/resnet50_weights_tf_dim_ordering_tf_kernels_notop.h5\n",
      "\u001b[1m94765736/94765736\u001b[0m \u001b[32m━━━━━━━━━━━━━━━━━━━━\u001b[0m\u001b[37m\u001b[0m \u001b[1m0s\u001b[0m 0us/step\n"
     ]
    }
   ],
   "source": [
    "# Build the model\n",
    "base_model = ResNet50(weights='imagenet', include_top=False, input_shape=(128, 128, 3))\n"
   ]
  },
  {
   "cell_type": "code",
   "execution_count": 7,
   "metadata": {
    "executionInfo": {
     "elapsed": 12,
     "status": "ok",
     "timestamp": 1749102939399,
     "user": {
      "displayName": "Arifah Haminuddin",
      "userId": "03118848497063943085"
     },
     "user_tz": -480
    },
    "id": "z6vejzGCwKuQ"
   },
   "outputs": [],
   "source": [
    "# Freeze base model layers\n",
    "for layer in base_model.layers:\n",
    "    layer.trainable = False"
   ]
  },
  {
   "cell_type": "code",
   "execution_count": 8,
   "metadata": {
    "executionInfo": {
     "elapsed": 33,
     "status": "ok",
     "timestamp": 1749102942986,
     "user": {
      "displayName": "Arifah Haminuddin",
      "userId": "03118848497063943085"
     },
     "user_tz": -480
    },
    "id": "-b2btU73KLrZ"
   },
   "outputs": [],
   "source": [
    "# Add custom layers\n",
    "x = base_model.output\n",
    "x = GlobalAveragePooling2D()(x)\n",
    "x = Dense(1024, activation='relu')(x)\n",
    "x = Dropout(0.5)(x)\n",
    "predictions = Dense(len(class_labels), activation='softmax')(x)\n",
    "\n",
    "model = Model(inputs=base_model.input, outputs=predictions)"
   ]
  },
  {
   "cell_type": "code",
   "execution_count": 9,
   "metadata": {
    "executionInfo": {
     "elapsed": 18,
     "status": "ok",
     "timestamp": 1749102945865,
     "user": {
      "displayName": "Arifah Haminuddin",
      "userId": "03118848497063943085"
     },
     "user_tz": -480
    },
    "id": "YPLiaEOVTPRv"
   },
   "outputs": [],
   "source": [
    "# Compile the model\n",
    "model.compile(optimizer=Adam(learning_rate=0.0001), loss='categorical_crossentropy', metrics=['accuracy'])\n"
   ]
  },
  {
   "cell_type": "code",
   "execution_count": 11,
   "metadata": {
    "colab": {
     "base_uri": "https://localhost:8080/"
    },
    "executionInfo": {
     "elapsed": 3270183,
     "status": "ok",
     "timestamp": 1749106227222,
     "user": {
      "displayName": "Arifah Haminuddin",
      "userId": "03118848497063943085"
     },
     "user_tz": -480
    },
    "id": "Lh2_UbtKKYoW",
    "outputId": "ed0f911e-b9a1-4abb-be4c-75acd6403c3f"
   },
   "outputs": [
    {
     "name": "stdout",
     "output_type": "stream",
     "text": [
      "Epoch 1/50\n",
      "441/441 - 2318s - 5s/step - accuracy: 0.8720 - loss: 0.3530 - val_accuracy: 0.9719 - val_loss: 0.0861\n",
      "Epoch 2/50\n",
      "441/441 - 20s - 44ms/step - accuracy: 0.9608 - loss: 0.1108 - val_accuracy: 0.9787 - val_loss: 0.0633\n",
      "Epoch 3/50\n",
      "441/441 - 19s - 44ms/step - accuracy: 0.9821 - loss: 0.0547 - val_accuracy: 0.9816 - val_loss: 0.0565\n",
      "Epoch 4/50\n",
      "441/441 - 19s - 44ms/step - accuracy: 0.9835 - loss: 0.0455 - val_accuracy: 0.9827 - val_loss: 0.0460\n",
      "Epoch 5/50\n",
      "441/441 - 20s - 45ms/step - accuracy: 0.9875 - loss: 0.0357 - val_accuracy: 0.9858 - val_loss: 0.0369\n",
      "Epoch 6/50\n",
      "441/441 - 20s - 45ms/step - accuracy: 0.9918 - loss: 0.0228 - val_accuracy: 0.9870 - val_loss: 0.0357\n",
      "Epoch 7/50\n",
      "441/441 - 19s - 44ms/step - accuracy: 0.9938 - loss: 0.0186 - val_accuracy: 0.9850 - val_loss: 0.0382\n",
      "Epoch 8/50\n",
      "441/441 - 20s - 45ms/step - accuracy: 0.9952 - loss: 0.0160 - val_accuracy: 0.9901 - val_loss: 0.0274\n",
      "Epoch 9/50\n",
      "441/441 - 20s - 46ms/step - accuracy: 0.9980 - loss: 0.0117 - val_accuracy: 0.9895 - val_loss: 0.0290\n",
      "Epoch 10/50\n",
      "441/441 - 20s - 45ms/step - accuracy: 0.9960 - loss: 0.0122 - val_accuracy: 0.9821 - val_loss: 0.0568\n",
      "Epoch 11/50\n",
      "441/441 - 19s - 44ms/step - accuracy: 0.9972 - loss: 0.0103 - val_accuracy: 0.9921 - val_loss: 0.0236\n",
      "Epoch 12/50\n",
      "441/441 - 20s - 44ms/step - accuracy: 0.9972 - loss: 0.0080 - val_accuracy: 0.9887 - val_loss: 0.0321\n",
      "Epoch 13/50\n",
      "441/441 - 20s - 44ms/step - accuracy: 0.9994 - loss: 0.0041 - val_accuracy: 0.9898 - val_loss: 0.0313\n",
      "Epoch 14/50\n",
      "441/441 - 19s - 44ms/step - accuracy: 0.9983 - loss: 0.0054 - val_accuracy: 0.9870 - val_loss: 0.0434\n",
      "Epoch 15/50\n",
      "441/441 - 19s - 44ms/step - accuracy: 0.9974 - loss: 0.0081 - val_accuracy: 0.9870 - val_loss: 0.0393\n",
      "Epoch 16/50\n",
      "441/441 - 19s - 43ms/step - accuracy: 0.9886 - loss: 0.0331 - val_accuracy: 0.9787 - val_loss: 0.0870\n",
      "Epoch 17/50\n",
      "441/441 - 19s - 44ms/step - accuracy: 0.9915 - loss: 0.0180 - val_accuracy: 0.9895 - val_loss: 0.0344\n",
      "Epoch 18/50\n",
      "441/441 - 19s - 44ms/step - accuracy: 0.9972 - loss: 0.0082 - val_accuracy: 0.9878 - val_loss: 0.0356\n",
      "Epoch 19/50\n",
      "441/441 - 19s - 43ms/step - accuracy: 0.9972 - loss: 0.0097 - val_accuracy: 0.9889 - val_loss: 0.0312\n",
      "Epoch 20/50\n",
      "441/441 - 19s - 44ms/step - accuracy: 0.9986 - loss: 0.0046 - val_accuracy: 0.9895 - val_loss: 0.0322\n",
      "Epoch 21/50\n",
      "441/441 - 20s - 45ms/step - accuracy: 0.9991 - loss: 0.0025 - val_accuracy: 0.9889 - val_loss: 0.0461\n",
      "Epoch 22/50\n",
      "441/441 - 19s - 43ms/step - accuracy: 1.0000 - loss: 0.0019 - val_accuracy: 0.9867 - val_loss: 0.0479\n",
      "Epoch 23/50\n",
      "441/441 - 19s - 44ms/step - accuracy: 0.9955 - loss: 0.0152 - val_accuracy: 0.9872 - val_loss: 0.0510\n",
      "Epoch 24/50\n",
      "441/441 - 19s - 43ms/step - accuracy: 0.9935 - loss: 0.0161 - val_accuracy: 0.9870 - val_loss: 0.0471\n",
      "Epoch 25/50\n",
      "441/441 - 20s - 44ms/step - accuracy: 0.9983 - loss: 0.0038 - val_accuracy: 0.9872 - val_loss: 0.0396\n",
      "Epoch 26/50\n",
      "441/441 - 19s - 44ms/step - accuracy: 0.9960 - loss: 0.0121 - val_accuracy: 0.9855 - val_loss: 0.0452\n",
      "Epoch 27/50\n",
      "441/441 - 19s - 44ms/step - accuracy: 0.9972 - loss: 0.0071 - val_accuracy: 0.9889 - val_loss: 0.0406\n",
      "Epoch 28/50\n",
      "441/441 - 19s - 44ms/step - accuracy: 0.9969 - loss: 0.0063 - val_accuracy: 0.9887 - val_loss: 0.0427\n",
      "Epoch 29/50\n",
      "441/441 - 19s - 44ms/step - accuracy: 0.9943 - loss: 0.0136 - val_accuracy: 0.9833 - val_loss: 0.0567\n",
      "Epoch 30/50\n",
      "441/441 - 19s - 44ms/step - accuracy: 0.9986 - loss: 0.0036 - val_accuracy: 0.9853 - val_loss: 0.0585\n",
      "Epoch 31/50\n",
      "441/441 - 19s - 43ms/step - accuracy: 0.9983 - loss: 0.0049 - val_accuracy: 0.9887 - val_loss: 0.0505\n",
      "Epoch 32/50\n",
      "441/441 - 19s - 43ms/step - accuracy: 0.9955 - loss: 0.0101 - val_accuracy: 0.9892 - val_loss: 0.0398\n",
      "Epoch 33/50\n",
      "441/441 - 19s - 44ms/step - accuracy: 0.9963 - loss: 0.0093 - val_accuracy: 0.9799 - val_loss: 0.0726\n",
      "Epoch 34/50\n",
      "441/441 - 19s - 44ms/step - accuracy: 0.9966 - loss: 0.0108 - val_accuracy: 0.9918 - val_loss: 0.0268\n",
      "Epoch 35/50\n",
      "441/441 - 19s - 44ms/step - accuracy: 0.9997 - loss: 0.0016 - val_accuracy: 0.9906 - val_loss: 0.0400\n",
      "Epoch 36/50\n",
      "441/441 - 20s - 44ms/step - accuracy: 0.9991 - loss: 0.0060 - val_accuracy: 0.9872 - val_loss: 0.0395\n",
      "Epoch 37/50\n",
      "441/441 - 19s - 44ms/step - accuracy: 0.9997 - loss: 7.0349e-04 - val_accuracy: 0.9906 - val_loss: 0.0314\n",
      "Epoch 38/50\n",
      "441/441 - 19s - 44ms/step - accuracy: 0.9974 - loss: 0.0065 - val_accuracy: 0.9878 - val_loss: 0.0422\n",
      "Epoch 39/50\n",
      "441/441 - 19s - 43ms/step - accuracy: 0.9966 - loss: 0.0083 - val_accuracy: 0.9904 - val_loss: 0.0346\n",
      "Epoch 40/50\n",
      "441/441 - 19s - 44ms/step - accuracy: 0.9980 - loss: 0.0103 - val_accuracy: 0.9887 - val_loss: 0.0418\n",
      "Epoch 41/50\n",
      "441/441 - 19s - 44ms/step - accuracy: 0.9994 - loss: 0.0022 - val_accuracy: 0.9898 - val_loss: 0.0343\n",
      "Epoch 42/50\n",
      "441/441 - 19s - 44ms/step - accuracy: 1.0000 - loss: 9.5568e-04 - val_accuracy: 0.9872 - val_loss: 0.0536\n",
      "Epoch 43/50\n",
      "441/441 - 19s - 43ms/step - accuracy: 0.9994 - loss: 0.0021 - val_accuracy: 0.9762 - val_loss: 0.1040\n",
      "Epoch 44/50\n",
      "441/441 - 19s - 43ms/step - accuracy: 0.9969 - loss: 0.0127 - val_accuracy: 0.9892 - val_loss: 0.0423\n",
      "Epoch 45/50\n",
      "441/441 - 20s - 45ms/step - accuracy: 0.9986 - loss: 0.0050 - val_accuracy: 0.9881 - val_loss: 0.0589\n",
      "Epoch 46/50\n",
      "441/441 - 19s - 43ms/step - accuracy: 0.9991 - loss: 0.0015 - val_accuracy: 0.9909 - val_loss: 0.0307\n",
      "Epoch 47/50\n",
      "441/441 - 19s - 44ms/step - accuracy: 0.9983 - loss: 0.0053 - val_accuracy: 0.9844 - val_loss: 0.0626\n",
      "Epoch 48/50\n",
      "441/441 - 19s - 44ms/step - accuracy: 0.9983 - loss: 0.0062 - val_accuracy: 0.9853 - val_loss: 0.0732\n",
      "Epoch 49/50\n",
      "441/441 - 19s - 44ms/step - accuracy: 1.0000 - loss: 7.1318e-04 - val_accuracy: 0.9898 - val_loss: 0.0295\n",
      "Epoch 50/50\n",
      "441/441 - 19s - 43ms/step - accuracy: 0.9994 - loss: 0.0021 - val_accuracy: 0.9898 - val_loss: 0.0333\n"
     ]
    }
   ],
   "source": [
    "# Train the model\n",
    "history = model.fit(\n",
    "    train_batches,\n",
    "    validation_data=valid_batches,\n",
    "    epochs=50,\n",
    "    verbose=2\n",
    ")"
   ]
  },
  {
   "cell_type": "code",
   "execution_count": 12,
   "metadata": {
    "colab": {
     "base_uri": "https://localhost:8080/",
     "height": 52
    },
    "executionInfo": {
     "elapsed": 18,
     "status": "ok",
     "timestamp": 1749108197099,
     "user": {
      "displayName": "Arifah Haminuddin",
      "userId": "03118848497063943085"
     },
     "user_tz": -480
    },
    "id": "5TLZAiVh_Xu8",
    "outputId": "77312e0a-2204-40de-c5da-387ec66ca350"
   },
   "outputs": [
    {
     "data": {
      "text/plain": [
       "<Figure size 1200x400 with 0 Axes>"
      ]
     },
     "execution_count": 12,
     "metadata": {},
     "output_type": "execute_result"
    },
    {
     "data": {
      "text/plain": [
       "<Figure size 1200x400 with 0 Axes>"
      ]
     },
     "metadata": {},
     "output_type": "display_data"
    }
   ],
   "source": [
    "# Plot training history\n",
    "import matplotlib.pyplot as plt\n",
    "plt.figure(figsize=(12, 4))"
   ]
  },
  {
   "cell_type": "code",
   "execution_count": 13,
   "metadata": {
    "colab": {
     "base_uri": "https://localhost:8080/",
     "height": 489
    },
    "executionInfo": {
     "elapsed": 408,
     "status": "ok",
     "timestamp": 1749108199692,
     "user": {
      "displayName": "Arifah Haminuddin",
      "userId": "03118848497063943085"
     },
     "user_tz": -480
    },
    "id": "KmseW74vKHUw",
    "outputId": "b5473904-bf27-4185-c93a-149aa566cf28"
   },
   "outputs": [
    {
     "data": {
      "text/plain": [
       "<matplotlib.legend.Legend at 0x7f8abbfbdb10>"
      ]
     },
     "execution_count": 13,
     "metadata": {},
     "output_type": "execute_result"
    },
    {
     "data": {
      "image/png": "[encoded data removed]",
      "text/plain": [
       "<Figure size 640x480 with 1 Axes>"
      ]
     },
     "metadata": {},
     "output_type": "display_data"
    }
   ],
   "source": [
    "# Accuracy plot\n",
    "plt.subplot(1, 2, 1)\n",
    "plt.plot(history.history['accuracy'], label='Train Accuracy')\n",
    "plt.plot(history.history['val_accuracy'], label='Validation Accuracy')\n",
    "plt.title('Model Accuracy')\n",
    "plt.xlabel('Epoch')\n",
    "plt.ylabel('Accuracy')\n",
    "plt.legend()"
   ]
  },
  {
   "cell_type": "code",
   "execution_count": 14,
   "metadata": {
    "colab": {
     "base_uri": "https://localhost:8080/",
     "height": 487
    },
    "executionInfo": {
     "elapsed": 221,
     "status": "ok",
     "timestamp": 1749108221069,
     "user": {
      "displayName": "Arifah Haminuddin",
      "userId": "03118848497063943085"
     },
     "user_tz": -480
    },
    "id": "SxFd0AQ2YHsT",
    "outputId": "0cac2911-6e43-49ba-daad-befe053da61c"
   },
   "outputs": [
    {
     "data": {
      "image/png": "[encoded data removed]",
      "text/plain": [
       "<Figure size 640x480 with 1 Axes>"
      ]
     },
     "metadata": {},
     "output_type": "display_data"
    }
   ],
   "source": [
    "# Loss plot\n",
    "plt.subplot(1, 2, 2)\n",
    "plt.plot(history.history['loss'], label='Train Loss')\n",
    "plt.plot(history.history['val_loss'], label='Validation Loss')\n",
    "plt.title('Model Loss')\n",
    "plt.xlabel('Epoch')\n",
    "plt.ylabel('Loss')\n",
    "plt.legend()\n",
    "\n",
    "plt.tight_layout()\n",
    "plt.show()"
   ]
  },
  {
   "cell_type": "code",
   "execution_count": 15,
   "metadata": {
    "colab": {
     "base_uri": "https://localhost:8080/"
    },
    "executionInfo": {
     "elapsed": 249059,
     "status": "ok",
     "timestamp": 1749108478502,
     "user": {
      "displayName": "Arifah Haminuddin",
      "userId": "03118848497063943085"
     },
     "user_tz": -480
    },
    "id": "EMug1DaXYK5p",
    "outputId": "da249c0d-7190-4b11-9cab-89642250dc98"
   },
   "outputs": [
    {
     "name": "stdout",
     "output_type": "stream",
     "text": [
      "Test Accuracy: 99.03%\n"
     ]
    }
   ],
   "source": [
    "# Evaluate the model\n",
    "loss, accuracy = model.evaluate(test_batches, verbose=0)\n",
    "print(f'Test Accuracy: {accuracy * 100:.2f}%')\n"
   ]
  },
  {
   "cell_type": "code",
   "execution_count": 16,
   "metadata": {
    "executionInfo": {
     "elapsed": 5787,
     "status": "ok",
     "timestamp": 1749108886085,
     "user": {
      "displayName": "Arifah Haminuddin",
      "userId": "03118848497063943085"
     },
     "user_tz": -480
    },
    "id": "zUKrAzf9Y_DF"
   },
   "outputs": [],
   "source": [
    "# Confusion matrix\n",
    "predictions = model.predict(test_batches, verbose=0)\n",
    "predicted_classes = np.argmax(predictions, axis=1)\n",
    "cm = confusion_matrix(test_batches.classes, predicted_classes)"
   ]
  },
  {
   "cell_type": "code",
   "execution_count": 17,
   "metadata": {
    "colab": {
     "base_uri": "https://localhost:8080/",
     "height": 584
    },
    "executionInfo": {
     "elapsed": 228,
     "status": "ok",
     "timestamp": 1749108889222,
     "user": {
      "displayName": "Arifah Haminuddin",
      "userId": "03118848497063943085"
     },
     "user_tz": -480
    },
    "id": "NAbIOpBZXgwW",
    "outputId": "f2542fe2-d748-4911-9cd7-12011c61f69a"
   },
   "outputs": [
    {
     "data": {
      "image/png": "[encoded data removed]",
      "text/plain": [
       "<Figure size 600x600 with 2 Axes>"
      ]
     },
     "metadata": {},
     "output_type": "display_data"
    }
   ],
   "source": [
    "# Plot confusion matrix\n",
    "def plot_confusion_matrix(cm, classes,\n",
    "                          normalize=False,\n",
    "                          title='Confusion Matrix',\n",
    "                          cmap=plt.cm.Blues):\n",
    "    plt.figure(figsize=(6, 6))\n",
    "    plt.imshow(cm, interpolation='nearest', cmap=cmap)\n",
    "    plt.title(title)\n",
    "    plt.colorbar()\n",
    "    tick_marks = np.arange(len(classes))\n",
    "    plt.xticks(tick_marks, classes, rotation=45)\n",
    "    plt.yticks(tick_marks, classes)\n",
    "\n",
    "    fmt = '.2f' if normalize else 'd'\n",
    "    thresh = cm.max() / 2.\n",
    "    for i, j in itertools.product(range(cm.shape[0]), range(cm.shape[1])):\n",
    "        plt.text(j, i, format(cm[i, j], fmt),\n",
    "                 horizontalalignment=\"center\",\n",
    "                 color=\"white\" if cm[i, j] > thresh else \"black\")\n",
    "\n",
    "    plt.ylabel('True Label')\n",
    "    plt.xlabel('Predicted Label')\n",
    "    plt.tight_layout()\n",
    "\n",
    "plot_confusion_matrix(cm=cm, classes=class_labels, title='Confusion Matrix')\n",
    "plt.show()"
   ]
  },
  {
   "cell_type": "code",
   "execution_count": 20,
   "metadata": {
    "colab": {
     "base_uri": "https://localhost:8080/"
    },
    "executionInfo": {
     "elapsed": 4118,
     "status": "ok",
     "timestamp": 1749108972434,
     "user": {
      "displayName": "Arifah Haminuddin",
      "userId": "03118848497063943085"
     },
     "user_tz": -480
    },
    "id": "bRWfTtdUCr_k",
    "outputId": "70a999dd-e651-4574-874f-66cb46f428e2"
   },
   "outputs": [
    {
     "name": "stdout",
     "output_type": "stream",
     "text": [
      "✅Test Accuracy: 99.03%\n",
      "✅ Mean Average Precision (mAP): 0.9997\n",
      "⏱️ Total Training Time: 1749108972.35 seconds\n"
     ]
    }
   ],
   "source": [
    "# Test Accuracy\n",
    "loss, accuracy = model.evaluate(test_batches, verbose=0)\n",
    "print(f'✅Test Accuracy: {accuracy * 100:.2f}%')\n",
    "\n",
    "\n",
    "predictions = model.predict(test_batches, verbose=0)\n",
    "predicted_classes = np.argmax(predictions, axis=1)\n",
    "\n",
    "# Test mAP\n",
    "y_true = test_batches.classes\n",
    "y_scores = predictions  \n",
    "from sklearn.metrics import average_precision_score # Import average_precision_score\n",
    "map_score = average_precision_score(tf.keras.utils.to_categorical(y_true), y_scores, average='macro')\n",
    "print(f\"✅ Mean Average Precision (mAP): {map_score:.4f}\")\n",
    "\n",
    "# Test Training Time\n",
    "import time\n",
    "end_time = time.time()\n",
    "training_time = end_time - history.epoch[0]  \n",
    "print(f\"⏱️ Total Training Time: {training_time:.2f} seconds\")\n"
   ]
  },
  {
   "cell_type": "markdown",
   "metadata": {
    "id": "IADlhjZUI6Mp"
   },
   "source": [
    "# **Dense121**"
   ]
  },
  {
   "cell_type": "code",
   "execution_count": 21,
   "metadata": {
    "executionInfo": {
     "elapsed": 16,
     "status": "ok",
     "timestamp": 1749108978586,
     "user": {
      "displayName": "Arifah Haminuddin",
      "userId": "03118848497063943085"
     },
     "user_tz": -480
    },
    "id": "pxlsjY_KdLVw"
   },
   "outputs": [],
   "source": [
    "import numpy as np\n",
    "import matplotlib.pyplot as plt\n",
    "import itertools\n",
    "import os\n",
    "import time\n",
    "import tensorflow as tf\n",
    "from tensorflow.keras.preprocessing.image import ImageDataGenerator\n",
    "from tensorflow.keras.applications import DenseNet121\n",
    "from tensorflow.keras.applications.densenet import preprocess_input\n",
    "from tensorflow.keras.models import Model\n",
    "from tensorflow.keras.layers import Dense, Dropout, GlobalAveragePooling2D\n",
    "from tensorflow.keras.optimizers import Adam\n",
    "from sklearn.metrics import confusion_matrix, average_precision_score\n",
    "\n",
    "# Suppress warnings\n",
    "import warnings\n",
    "warnings.simplefilter(action='ignore', category=FutureWarning)"
   ]
  },
  {
   "cell_type": "code",
   "execution_count": 22,
   "metadata": {
    "executionInfo": {
     "elapsed": 16,
     "status": "ok",
     "timestamp": 1749108981105,
     "user": {
      "displayName": "Arifah Haminuddin",
      "userId": "03118848497063943085"
     },
     "user_tz": -480
    },
    "id": "g7WB5AQVLoRn"
   },
   "outputs": [],
   "source": [
    "# Set paths\n",
    "train_path = '/content/drive/MyDrive/apple/train'\n",
    "valid_path = '/content/drive/MyDrive/apple/valid'\n",
    "test_path = '/content/drive/MyDrive/apple/test'\n"
   ]
  },
  {
   "cell_type": "code",
   "execution_count": 23,
   "metadata": {
    "executionInfo": {
     "elapsed": 7,
     "status": "ok",
     "timestamp": 1749108984743,
     "user": {
      "displayName": "Arifah Haminuddin",
      "userId": "03118848497063943085"
     },
     "user_tz": -480
    },
    "id": "JTGlnqfsL1IW"
   },
   "outputs": [],
   "source": [
    "# Define class labels\n",
    "class_labels = ['healthy', 'rot', 'rust', 'scab']\n"
   ]
  },
  {
   "cell_type": "code",
   "execution_count": 24,
   "metadata": {
    "colab": {
     "base_uri": "https://localhost:8080/"
    },
    "executionInfo": {
     "elapsed": 201,
     "status": "ok",
     "timestamp": 1749108987154,
     "user": {
      "displayName": "Arifah Haminuddin",
      "userId": "03118848497063943085"
     },
     "user_tz": -480
    },
    "id": "26cp5Hjn4uMb",
    "outputId": "618715a7-1928-4ac4-fcad-887dc8c0f56f"
   },
   "outputs": [
    {
     "name": "stdout",
     "output_type": "stream",
     "text": [
      "Found 3523 images belonging to 4 classes.\n",
      "Found 3528 images belonging to 4 classes.\n",
      "Found 720 images belonging to 4 classes.\n"
     ]
    }
   ],
   "source": [
    "# Data generators\n",
    "train_datagen = ImageDataGenerator(preprocessing_function=preprocess_input)\n",
    "valid_datagen = ImageDataGenerator(preprocessing_function=preprocess_input)\n",
    "test_datagen = ImageDataGenerator(preprocessing_function=preprocess_input)\n",
    "\n",
    "train_batches = train_datagen.flow_from_directory(\n",
    "    directory=train_path,\n",
    "    target_size=(128,128),\n",
    "    classes=class_labels,\n",
    "    batch_size=8\n",
    ")\n",
    "\n",
    "valid_batches = valid_datagen.flow_from_directory(\n",
    "    directory=valid_path,\n",
    "    target_size=(128,128),\n",
    "    classes=class_labels,\n",
    "    batch_size=8\n",
    ")\n",
    "\n",
    "test_batches = test_datagen.flow_from_directory(\n",
    "    directory=test_path,\n",
    "    target_size=(128,128),\n",
    "    classes=class_labels,\n",
    "    batch_size=8,\n",
    "    shuffle=False\n",
    ")"
   ]
  },
  {
   "cell_type": "code",
   "execution_count": 25,
   "metadata": {
    "colab": {
     "base_uri": "https://localhost:8080/"
    },
    "executionInfo": {
     "elapsed": 2326,
     "status": "ok",
     "timestamp": 1749108993065,
     "user": {
      "displayName": "Arifah Haminuddin",
      "userId": "03118848497063943085"
     },
     "user_tz": -480
    },
    "id": "XubH56dnMkA4",
    "outputId": "15f60720-4f05-4965-e3ed-53adbb4bfe67"
   },
   "outputs": [
    {
     "name": "stdout",
     "output_type": "stream",
     "text": [
      "Downloading data from https://storage.googleapis.com/tensorflow/keras-applications/densenet/densenet121_weights_tf_dim_ordering_tf_kernels_notop.h5\n",
      "\u001b[1m29084464/29084464\u001b[0m \u001b[32m━━━━━━━━━━━━━━━━━━━━\u001b[0m\u001b[37m\u001b[0m \u001b[1m0s\u001b[0m 0us/step\n"
     ]
    }
   ],
   "source": [
    "# Build the model\n",
    "base_model = DenseNet121(weights='imagenet', include_top=False, input_shape=(128, 128, 3))\n"
   ]
  },
  {
   "cell_type": "code",
   "execution_count": 26,
   "metadata": {
    "executionInfo": {
     "elapsed": 5,
     "status": "ok",
     "timestamp": 1749108995856,
     "user": {
      "displayName": "Arifah Haminuddin",
      "userId": "03118848497063943085"
     },
     "user_tz": -480
    },
    "id": "OUfxdFbrMz93"
   },
   "outputs": [],
   "source": [
    "# Freeze base model layers\n",
    "for layer in base_model.layers:\n",
    "    layer.trainable = False\n"
   ]
  },
  {
   "cell_type": "code",
   "execution_count": 27,
   "metadata": {
    "executionInfo": {
     "elapsed": 35,
     "status": "ok",
     "timestamp": 1749109000740,
     "user": {
      "displayName": "Arifah Haminuddin",
      "userId": "03118848497063943085"
     },
     "user_tz": -480
    },
    "id": "fE67-QzQM5MD"
   },
   "outputs": [],
   "source": [
    "# Add custom layers\n",
    "x = base_model.output\n",
    "x = GlobalAveragePooling2D()(x)\n",
    "x = Dense(1024, activation='relu')(x)\n",
    "x = Dropout(0.5)(x)\n",
    "predictions = Dense(len(class_labels), activation='softmax')(x)\n",
    "\n",
    "model = Model(inputs=base_model.input, outputs=predictions)\n"
   ]
  },
  {
   "cell_type": "code",
   "execution_count": 28,
   "metadata": {
    "executionInfo": {
     "elapsed": 7,
     "status": "ok",
     "timestamp": 1749109005804,
     "user": {
      "displayName": "Arifah Haminuddin",
      "userId": "03118848497063943085"
     },
     "user_tz": -480
    },
    "id": "dU-idyyMNGiz"
   },
   "outputs": [],
   "source": [
    "# Compile the model\n",
    "model.compile(optimizer=Adam(learning_rate=0.0001), loss='categorical_crossentropy', metrics=['accuracy'])\n"
   ]
  },
  {
   "cell_type": "code",
   "execution_count": 29,
   "metadata": {
    "colab": {
     "base_uri": "https://localhost:8080/"
    },
    "executionInfo": {
     "elapsed": 1016089,
     "status": "ok",
     "timestamp": 1749110031058,
     "user": {
      "displayName": "Arifah Haminuddin",
      "userId": "03118848497063943085"
     },
     "user_tz": -480
    },
    "id": "_7HP1ydyNl6L",
    "outputId": "fd370872-89a6-4a63-e0a7-3c769c190790"
   },
   "outputs": [
    {
     "name": "stdout",
     "output_type": "stream",
     "text": [
      "Epoch 1/50\n"
     ]
    },
    {
     "name": "stderr",
     "output_type": "stream",
     "text": [
      "/usr/local/lib/python3.11/dist-packages/keras/src/trainers/data_adapters/py_dataset_adapter.py:121: UserWarning: Your `PyDataset` class should call `super().__init__(**kwargs)` in its constructor. `**kwargs` can include `workers`, `use_multiprocessing`, `max_queue_size`. Do not pass these arguments to `fit()`, as they will be ignored.\n",
      "  self._warn_if_super_not_called()\n"
     ]
    },
    {
     "name": "stdout",
     "output_type": "stream",
     "text": [
      "441/441 - 66s - 150ms/step - accuracy: 0.8076 - loss: 0.5143 - val_accuracy: 0.9518 - val_loss: 0.1583\n",
      "Epoch 2/50\n",
      "441/441 - 20s - 44ms/step - accuracy: 0.9356 - loss: 0.1784 - val_accuracy: 0.9700 - val_loss: 0.0953\n",
      "Epoch 3/50\n",
      "441/441 - 19s - 44ms/step - accuracy: 0.9577 - loss: 0.1208 - val_accuracy: 0.9711 - val_loss: 0.0879\n",
      "Epoch 4/50\n",
      "441/441 - 19s - 44ms/step - accuracy: 0.9710 - loss: 0.0834 - val_accuracy: 0.9793 - val_loss: 0.0713\n",
      "Epoch 5/50\n",
      "441/441 - 19s - 44ms/step - accuracy: 0.9753 - loss: 0.0672 - val_accuracy: 0.9736 - val_loss: 0.0811\n",
      "Epoch 6/50\n",
      "441/441 - 20s - 44ms/step - accuracy: 0.9847 - loss: 0.0529 - val_accuracy: 0.9813 - val_loss: 0.0617\n",
      "Epoch 7/50\n",
      "441/441 - 20s - 45ms/step - accuracy: 0.9881 - loss: 0.0432 - val_accuracy: 0.9785 - val_loss: 0.0680\n",
      "Epoch 8/50\n",
      "441/441 - 19s - 44ms/step - accuracy: 0.9867 - loss: 0.0427 - val_accuracy: 0.9782 - val_loss: 0.0594\n",
      "Epoch 9/50\n",
      "441/441 - 20s - 46ms/step - accuracy: 0.9915 - loss: 0.0309 - val_accuracy: 0.9745 - val_loss: 0.0749\n",
      "Epoch 10/50\n",
      "441/441 - 19s - 43ms/step - accuracy: 0.9898 - loss: 0.0319 - val_accuracy: 0.9847 - val_loss: 0.0510\n",
      "Epoch 11/50\n",
      "441/441 - 20s - 45ms/step - accuracy: 0.9946 - loss: 0.0203 - val_accuracy: 0.9850 - val_loss: 0.0483\n",
      "Epoch 12/50\n",
      "441/441 - 20s - 45ms/step - accuracy: 0.9926 - loss: 0.0219 - val_accuracy: 0.9827 - val_loss: 0.0557\n",
      "Epoch 13/50\n",
      "441/441 - 19s - 43ms/step - accuracy: 0.9952 - loss: 0.0163 - val_accuracy: 0.9853 - val_loss: 0.0507\n",
      "Epoch 14/50\n",
      "441/441 - 19s - 44ms/step - accuracy: 0.9963 - loss: 0.0165 - val_accuracy: 0.9804 - val_loss: 0.0648\n",
      "Epoch 15/50\n",
      "441/441 - 20s - 44ms/step - accuracy: 0.9935 - loss: 0.0199 - val_accuracy: 0.9821 - val_loss: 0.0556\n",
      "Epoch 16/50\n",
      "441/441 - 19s - 44ms/step - accuracy: 0.9963 - loss: 0.0141 - val_accuracy: 0.9697 - val_loss: 0.0960\n",
      "Epoch 17/50\n",
      "441/441 - 19s - 43ms/step - accuracy: 0.9963 - loss: 0.0150 - val_accuracy: 0.9861 - val_loss: 0.0456\n",
      "Epoch 18/50\n",
      "441/441 - 20s - 45ms/step - accuracy: 0.9977 - loss: 0.0098 - val_accuracy: 0.9870 - val_loss: 0.0464\n",
      "Epoch 19/50\n",
      "441/441 - 19s - 44ms/step - accuracy: 0.9972 - loss: 0.0103 - val_accuracy: 0.9847 - val_loss: 0.0581\n",
      "Epoch 20/50\n",
      "441/441 - 20s - 45ms/step - accuracy: 0.9963 - loss: 0.0103 - val_accuracy: 0.9867 - val_loss: 0.0487\n",
      "Epoch 21/50\n",
      "441/441 - 19s - 44ms/step - accuracy: 0.9980 - loss: 0.0096 - val_accuracy: 0.9779 - val_loss: 0.0739\n",
      "Epoch 22/50\n",
      "441/441 - 19s - 43ms/step - accuracy: 0.9972 - loss: 0.0101 - val_accuracy: 0.9807 - val_loss: 0.0680\n",
      "Epoch 23/50\n",
      "441/441 - 19s - 44ms/step - accuracy: 0.9966 - loss: 0.0125 - val_accuracy: 0.9841 - val_loss: 0.0487\n",
      "Epoch 24/50\n",
      "441/441 - 19s - 43ms/step - accuracy: 0.9966 - loss: 0.0096 - val_accuracy: 0.9799 - val_loss: 0.0622\n",
      "Epoch 25/50\n",
      "441/441 - 19s - 44ms/step - accuracy: 0.9972 - loss: 0.0085 - val_accuracy: 0.9864 - val_loss: 0.0501\n",
      "Epoch 26/50\n",
      "441/441 - 19s - 44ms/step - accuracy: 0.9977 - loss: 0.0070 - val_accuracy: 0.9841 - val_loss: 0.0509\n",
      "Epoch 27/50\n",
      "441/441 - 19s - 43ms/step - accuracy: 0.9960 - loss: 0.0112 - val_accuracy: 0.9838 - val_loss: 0.0437\n",
      "Epoch 28/50\n",
      "441/441 - 19s - 43ms/step - accuracy: 0.9977 - loss: 0.0073 - val_accuracy: 0.9819 - val_loss: 0.0654\n",
      "Epoch 29/50\n",
      "441/441 - 19s - 43ms/step - accuracy: 0.9980 - loss: 0.0080 - val_accuracy: 0.9844 - val_loss: 0.0567\n",
      "Epoch 30/50\n",
      "441/441 - 19s - 43ms/step - accuracy: 0.9980 - loss: 0.0064 - val_accuracy: 0.9838 - val_loss: 0.0532\n",
      "Epoch 31/50\n",
      "441/441 - 19s - 44ms/step - accuracy: 0.9994 - loss: 0.0039 - val_accuracy: 0.9833 - val_loss: 0.0674\n",
      "Epoch 32/50\n",
      "441/441 - 19s - 44ms/step - accuracy: 0.9991 - loss: 0.0033 - val_accuracy: 0.9864 - val_loss: 0.0553\n",
      "Epoch 33/50\n",
      "441/441 - 19s - 44ms/step - accuracy: 0.9994 - loss: 0.0025 - val_accuracy: 0.9867 - val_loss: 0.0490\n",
      "Epoch 34/50\n",
      "441/441 - 19s - 43ms/step - accuracy: 1.0000 - loss: 7.8332e-04 - val_accuracy: 0.9872 - val_loss: 0.0506\n",
      "Epoch 35/50\n",
      "441/441 - 19s - 43ms/step - accuracy: 0.9997 - loss: 0.0018 - val_accuracy: 0.9855 - val_loss: 0.0597\n",
      "Epoch 36/50\n",
      "441/441 - 19s - 43ms/step - accuracy: 0.9938 - loss: 0.0140 - val_accuracy: 0.9836 - val_loss: 0.0537\n",
      "Epoch 37/50\n",
      "441/441 - 19s - 44ms/step - accuracy: 0.9960 - loss: 0.0111 - val_accuracy: 0.9861 - val_loss: 0.0508\n",
      "Epoch 38/50\n",
      "441/441 - 19s - 44ms/step - accuracy: 0.9977 - loss: 0.0053 - val_accuracy: 0.9864 - val_loss: 0.0522\n",
      "Epoch 39/50\n",
      "441/441 - 19s - 43ms/step - accuracy: 0.9997 - loss: 0.0019 - val_accuracy: 0.9858 - val_loss: 0.0567\n",
      "Epoch 40/50\n",
      "441/441 - 19s - 44ms/step - accuracy: 0.9983 - loss: 0.0069 - val_accuracy: 0.9734 - val_loss: 0.1066\n",
      "Epoch 41/50\n",
      "441/441 - 20s - 46ms/step - accuracy: 0.9972 - loss: 0.0074 - val_accuracy: 0.9838 - val_loss: 0.0662\n",
      "Epoch 42/50\n",
      "441/441 - 19s - 44ms/step - accuracy: 0.9974 - loss: 0.0048 - val_accuracy: 0.9787 - val_loss: 0.1040\n",
      "Epoch 43/50\n",
      "441/441 - 19s - 44ms/step - accuracy: 0.9974 - loss: 0.0060 - val_accuracy: 0.9841 - val_loss: 0.0705\n",
      "Epoch 44/50\n",
      "441/441 - 19s - 43ms/step - accuracy: 1.0000 - loss: 0.0018 - val_accuracy: 0.9853 - val_loss: 0.0568\n",
      "Epoch 45/50\n",
      "441/441 - 19s - 44ms/step - accuracy: 0.9989 - loss: 0.0033 - val_accuracy: 0.9804 - val_loss: 0.0872\n",
      "Epoch 46/50\n",
      "441/441 - 20s - 45ms/step - accuracy: 0.9983 - loss: 0.0066 - val_accuracy: 0.9861 - val_loss: 0.0555\n",
      "Epoch 47/50\n",
      "441/441 - 20s - 45ms/step - accuracy: 0.9997 - loss: 0.0018 - val_accuracy: 0.9844 - val_loss: 0.0609\n",
      "Epoch 48/50\n",
      "441/441 - 20s - 45ms/step - accuracy: 0.9986 - loss: 0.0033 - val_accuracy: 0.9838 - val_loss: 0.0620\n",
      "Epoch 49/50\n",
      "441/441 - 19s - 44ms/step - accuracy: 0.9991 - loss: 0.0021 - val_accuracy: 0.9850 - val_loss: 0.0604\n",
      "Epoch 50/50\n",
      "441/441 - 20s - 45ms/step - accuracy: 0.9994 - loss: 0.0016 - val_accuracy: 0.9853 - val_loss: 0.0570\n"
     ]
    }
   ],
   "source": [
    "# Train the model and measure training time\n",
    "start_time = time.time()\n",
    "history = model.fit(\n",
    "    train_batches,\n",
    "    validation_data=valid_batches,\n",
    "    epochs=50,\n",
    "    verbose=2\n",
    ")\n",
    "end_time = time.time()\n",
    "training_time = end_time - start_time"
   ]
  },
  {
   "cell_type": "code",
   "execution_count": 30,
   "metadata": {
    "colab": {
     "base_uri": "https://localhost:8080/",
     "height": 52
    },
    "executionInfo": {
     "elapsed": 12,
     "status": "ok",
     "timestamp": 1749110050932,
     "user": {
      "displayName": "Arifah Haminuddin",
      "userId": "03118848497063943085"
     },
     "user_tz": -480
    },
    "id": "lcM6KXnWQWis",
    "outputId": "bb8882c7-5e5c-4a10-9258-4f00399816c5"
   },
   "outputs": [
    {
     "data": {
      "text/plain": [
       "<Figure size 1200x400 with 0 Axes>"
      ]
     },
     "execution_count": 30,
     "metadata": {},
     "output_type": "execute_result"
    },
    {
     "data": {
      "text/plain": [
       "<Figure size 1200x400 with 0 Axes>"
      ]
     },
     "metadata": {},
     "output_type": "display_data"
    }
   ],
   "source": [
    "# Plot training history\n",
    "plt.figure(figsize=(12, 4))"
   ]
  },
  {
   "cell_type": "code",
   "execution_count": 31,
   "metadata": {
    "colab": {
     "base_uri": "https://localhost:8080/",
     "height": 489
    },
    "executionInfo": {
     "elapsed": 215,
     "status": "ok",
     "timestamp": 1749110053025,
     "user": {
      "displayName": "Arifah Haminuddin",
      "userId": "03118848497063943085"
     },
     "user_tz": -480
    },
    "id": "CSWkA-qVQcd4",
    "outputId": "f0095921-6d30-4c5e-91f5-501ba5300416"
   },
   "outputs": [
    {
     "data": {
      "text/plain": [
       "<matplotlib.legend.Legend at 0x7f89c8450c90>"
      ]
     },
     "execution_count": 31,
     "metadata": {},
     "output_type": "execute_result"
    },
    {
     "data": {
      "image/png": "[encoded data removed]",
      "text/plain": [
       "<Figure size 640x480 with 1 Axes>"
      ]
     },
     "metadata": {},
     "output_type": "display_data"
    }
   ],
   "source": [
    "# Accuracy plot\n",
    "plt.subplot(1, 2, 1)\n",
    "plt.plot(history.history['accuracy'], label='Train Accuracy')\n",
    "plt.plot(history.history['val_accuracy'], label='Validation Accuracy')\n",
    "plt.title('Model Accuracy')\n",
    "plt.xlabel('Epoch')\n",
    "plt.ylabel('Accuracy')\n",
    "plt.legend()"
   ]
  },
  {
   "cell_type": "code",
   "execution_count": 32,
   "metadata": {
    "colab": {
     "base_uri": "https://localhost:8080/",
     "height": 487
    },
    "executionInfo": {
     "elapsed": 184,
     "status": "ok",
     "timestamp": 1749110087427,
     "user": {
      "displayName": "Arifah Haminuddin",
      "userId": "03118848497063943085"
     },
     "user_tz": -480
    },
    "id": "WptrWxsJSctX",
    "outputId": "4f959caa-2c09-42b1-9c3c-28c078dd8bca"
   },
   "outputs": [
    {
     "data": {
      "image/png": "[encoded data removed]",
      "text/plain": [
       "<Figure size 640x480 with 1 Axes>"
      ]
     },
     "metadata": {},
     "output_type": "display_data"
    }
   ],
   "source": [
    "# Loss plot\n",
    "plt.subplot(1, 2, 2)\n",
    "plt.plot(history.history['loss'], label='Train Loss')\n",
    "plt.plot(history.history['val_loss'], label='Validation Loss')\n",
    "plt.title('Model Loss')\n",
    "plt.xlabel('Epoch')\n",
    "plt.ylabel('Loss')\n",
    "plt.legend()\n",
    "\n",
    "plt.tight_layout()\n",
    "plt.show()"
   ]
  },
  {
   "cell_type": "code",
   "execution_count": 33,
   "metadata": {
    "colab": {
     "base_uri": "https://localhost:8080/"
    },
    "executionInfo": {
     "elapsed": 2055,
     "status": "ok",
     "timestamp": 1749110114736,
     "user": {
      "displayName": "Arifah Haminuddin",
      "userId": "03118848497063943085"
     },
     "user_tz": -480
    },
    "id": "O3gje90xS2FN",
    "outputId": "4638ecf7-3f57-4034-a479-8c52f37be231"
   },
   "outputs": [
    {
     "name": "stdout",
     "output_type": "stream",
     "text": [
      "✅ Test Accuracy: 98.75%\n"
     ]
    }
   ],
   "source": [
    "# Evaluate the model\n",
    "loss, accuracy = model.evaluate(test_batches, verbose=0)\n",
    "print(f'✅ Test Accuracy: {accuracy * 100:.2f}%')"
   ]
  },
  {
   "cell_type": "code",
   "execution_count": 34,
   "metadata": {
    "executionInfo": {
     "elapsed": 12023,
     "status": "ok",
     "timestamp": 1749110130928,
     "user": {
      "displayName": "Arifah Haminuddin",
      "userId": "03118848497063943085"
     },
     "user_tz": -480
    },
    "id": "fdqYMiXpTsYM"
   },
   "outputs": [],
   "source": [
    "# Confusion matrix\n",
    "predictions = model.predict(test_batches, verbose=0)\n",
    "predicted_classes = np.argmax(predictions, axis=1)\n",
    "cm = confusion_matrix(test_batches.classes, predicted_classes)"
   ]
  },
  {
   "cell_type": "code",
   "execution_count": 35,
   "metadata": {
    "colab": {
     "base_uri": "https://localhost:8080/",
     "height": 584
    },
    "executionInfo": {
     "elapsed": 218,
     "status": "ok",
     "timestamp": 1749110132819,
     "user": {
      "displayName": "Arifah Haminuddin",
      "userId": "03118848497063943085"
     },
     "user_tz": -480
    },
    "id": "p07gNnSMTwxH",
    "outputId": "40421aea-320e-480d-9c56-0517686254d8"
   },
   "outputs": [
    {
     "data": {
      "image/png": "[encoded data removed]",
      "text/plain": [
       "<Figure size 600x600 with 2 Axes>"
      ]
     },
     "metadata": {},
     "output_type": "display_data"
    }
   ],
   "source": [
    "# Plot confusion matrix\n",
    "def plot_confusion_matrix(cm, classes, normalize=False, title='Confusion Matrix', cmap=plt.cm.Blues):\n",
    "    plt.figure(figsize=(6, 6))\n",
    "    plt.imshow(cm, interpolation='nearest', cmap=cmap)\n",
    "    plt.title(title)\n",
    "    plt.colorbar()\n",
    "    tick_marks = np.arange(len(classes))\n",
    "    plt.xticks(tick_marks, classes, rotation=45)\n",
    "    plt.yticks(tick_marks, classes)\n",
    "\n",
    "    fmt = '.2f' if normalize else 'd'\n",
    "    thresh = cm.max() / 2.\n",
    "\n",
    "    for i, j in itertools.product(range(cm.shape[0]), range(cm.shape[1])):\n",
    "        plt.text(j, i, format(cm[i, j], fmt),\n",
    "                 horizontalalignment=\"center\",\n",
    "                 color=\"white\" if cm[i, j] > thresh else \"black\")\n",
    "\n",
    "    plt.ylabel('True Label')\n",
    "    plt.xlabel('Predicted Label')\n",
    "    plt.tight_layout()\n",
    "\n",
    "plot_confusion_matrix(cm=cm, classes=class_labels, title='Confusion Matrix')\n",
    "plt.show()"
   ]
  },
  {
   "cell_type": "code",
   "execution_count": 36,
   "metadata": {
    "colab": {
     "base_uri": "https://localhost:8080/"
    },
    "executionInfo": {
     "elapsed": 4157,
     "status": "ok",
     "timestamp": 1749110154394,
     "user": {
      "displayName": "Arifah Haminuddin",
      "userId": "03118848497063943085"
     },
     "user_tz": -480
    },
    "id": "EhFbqzGMT-oL",
    "outputId": "5dfb1496-005d-4667-e7ea-47cac8542839"
   },
   "outputs": [
    {
     "name": "stdout",
     "output_type": "stream",
     "text": [
      "✅Test Accuracy: 98.75%\n",
      "✅ Mean Average Precision (mAP): 0.9995\n",
      "⏱️ Total Training Time: 1016.08 seconds\n"
     ]
    }
   ],
   "source": [
    "# Test Accuracy\n",
    "loss, accuracy = model.evaluate(test_batches, verbose=0)\n",
    "print(f'✅Test Accuracy: {accuracy * 100:.2f}%')\n",
    "\n",
    "\n",
    "predictions = model.predict(test_batches, verbose=0)\n",
    "predicted_classes = np.argmax(predictions, axis=1)\n",
    "\n",
    "# Test mAP\n",
    "y_true = test_batches.classes\n",
    "y_scores = predictions  \n",
    "from sklearn.metrics import average_precision_score # Import average_precision_score\n",
    "map_score = average_precision_score(tf.keras.utils.to_categorical(y_true), y_scores, average='macro')\n",
    "print(f\"✅ Mean Average Precision (mAP): {map_score:.4f}\")\n",
    "\n",
    "# Test Training Time\n",
    "\n",
    "print(f\"⏱️ Total Training Time: {training_time:.2f} seconds\")"
   ]
  },
  {
   "cell_type": "markdown",
   "metadata": {
    "id": "UmAozld_4vKZ"
   },
   "source": [
    "# **MobileNetv3**"
   ]
  },
  {
   "cell_type": "code",
   "execution_count": 52,
   "metadata": {
    "executionInfo": {
     "elapsed": 43,
     "status": "ok",
     "timestamp": 1749112502943,
     "user": {
      "displayName": "Arifah Haminuddin",
      "userId": "03118848497063943085"
     },
     "user_tz": -480
    },
    "id": "Dci5s1Fb4xRD"
   },
   "outputs": [],
   "source": [
    "import numpy as np\n",
    "import matplotlib.pyplot as plt\n",
    "import itertools\n",
    "import os\n",
    "import time\n",
    "import tensorflow as tf\n",
    "from tensorflow.keras.preprocessing.image import ImageDataGenerator\n",
    "from tensorflow.keras.applications import MobileNetV3Large\n",
    "from tensorflow.keras.applications.mobilenet_v3 import preprocess_input\n",
    "from tensorflow.keras.models import Model\n",
    "from tensorflow.keras.layers import Dense, Dropout, GlobalAveragePooling2D\n",
    "from tensorflow.keras.optimizers import Adam\n",
    "from sklearn.metrics import confusion_matrix, average_precision_score\n",
    "import warnings\n",
    "warnings.simplefilter(action='ignore', category=FutureWarning)"
   ]
  },
  {
   "cell_type": "code",
   "execution_count": 53,
   "metadata": {
    "executionInfo": {
     "elapsed": 3,
     "status": "ok",
     "timestamp": 1749112504433,
     "user": {
      "displayName": "Arifah Haminuddin",
      "userId": "03118848497063943085"
     },
     "user_tz": -480
    },
    "id": "s5sSA-fF42BW"
   },
   "outputs": [],
   "source": [
    "# Set paths\n",
    "train_path = '/content/drive/MyDrive/apple/train'\n",
    "valid_path = '/content/drive/MyDrive/apple/valid'\n",
    "test_path = '/content/drive/MyDrive/apple/test'"
   ]
  },
  {
   "cell_type": "code",
   "execution_count": 54,
   "metadata": {
    "executionInfo": {
     "elapsed": 6,
     "status": "ok",
     "timestamp": 1749112506333,
     "user": {
      "displayName": "Arifah Haminuddin",
      "userId": "03118848497063943085"
     },
     "user_tz": -480
    },
    "id": "7yNm8i3TY3EA"
   },
   "outputs": [],
   "source": [
    "# Define class labels\n",
    "class_labels = ['healthy', 'rot', 'rust', 'scab']"
   ]
  },
  {
   "cell_type": "code",
   "execution_count": 55,
   "metadata": {
    "colab": {
     "base_uri": "https://localhost:8080/"
    },
    "executionInfo": {
     "elapsed": 172,
     "status": "ok",
     "timestamp": 1749112508044,
     "user": {
      "displayName": "Arifah Haminuddin",
      "userId": "03118848497063943085"
     },
     "user_tz": -480
    },
    "id": "95y8Y5HWY9_D",
    "outputId": "1aa51647-f2bb-40b3-adf6-fc0a0d5e8e19"
   },
   "outputs": [
    {
     "name": "stdout",
     "output_type": "stream",
     "text": [
      "Found 3523 images belonging to 4 classes.\n",
      "Found 3528 images belonging to 4 classes.\n",
      "Found 720 images belonging to 4 classes.\n"
     ]
    }
   ],
   "source": [
    "# Data generators\n",
    "train_datagen = ImageDataGenerator(preprocessing_function=preprocess_input)\n",
    "valid_datagen = ImageDataGenerator(preprocessing_function=preprocess_input)\n",
    "test_datagen = ImageDataGenerator(preprocessing_function=preprocess_input)\n",
    "\n",
    "train_batches = train_datagen.flow_from_directory(\n",
    "    directory=train_path,\n",
    "    target_size=(128,128),\n",
    "    classes=class_labels,\n",
    "    batch_size=8\n",
    ")\n",
    "\n",
    "valid_batches = valid_datagen.flow_from_directory(\n",
    "    directory=valid_path,\n",
    "    target_size=(128,128),\n",
    "    classes=class_labels,\n",
    "    batch_size=8\n",
    ")\n",
    "\n",
    "test_batches = test_datagen.flow_from_directory(\n",
    "    directory=test_path,\n",
    "    target_size=(128,128),\n",
    "    classes=class_labels,\n",
    "    batch_size=8,\n",
    "    shuffle=False\n",
    ")"
   ]
  },
  {
   "cell_type": "code",
   "execution_count": 56,
   "metadata": {
    "colab": {
     "base_uri": "https://localhost:8080/"
    },
    "executionInfo": {
     "elapsed": 770,
     "status": "ok",
     "timestamp": 1749112511583,
     "user": {
      "displayName": "Arifah Haminuddin",
      "userId": "03118848497063943085"
     },
     "user_tz": -480
    },
    "id": "ZUIZfOjyZ9E7",
    "outputId": "c7b7a75c-4c88-4791-dd75-20110ecdbeba"
   },
   "outputs": [
    {
     "name": "stderr",
     "output_type": "stream",
     "text": [
      "/usr/local/lib/python3.11/dist-packages/keras/src/applications/mobilenet_v3.py:517: UserWarning: `input_shape` is undefined or non-square, or `rows` is not 224. Weights for input shape (224, 224) will be loaded as the default.\n",
      "  return MobileNetV3(\n"
     ]
    }
   ],
   "source": [
    "# Load MobileNetV3\n",
    "base_model = MobileNetV3Large(weights='imagenet', include_top=False, input_shape=(128, 128, 3))\n"
   ]
  },
  {
   "cell_type": "code",
   "execution_count": 57,
   "metadata": {
    "executionInfo": {
     "elapsed": 3,
     "status": "ok",
     "timestamp": 1749112514016,
     "user": {
      "displayName": "Arifah Haminuddin",
      "userId": "03118848497063943085"
     },
     "user_tz": -480
    },
    "id": "bdiN_kM1aGUS"
   },
   "outputs": [],
   "source": [
    "# Freeze base model layers\n",
    "for layer in base_model.layers:\n",
    "    layer.trainable = False\n"
   ]
  },
  {
   "cell_type": "code",
   "execution_count": 58,
   "metadata": {
    "executionInfo": {
     "elapsed": 17,
     "status": "ok",
     "timestamp": 1749112515514,
     "user": {
      "displayName": "Arifah Haminuddin",
      "userId": "03118848497063943085"
     },
     "user_tz": -480
    },
    "id": "4cK3JNkhaJgo"
   },
   "outputs": [],
   "source": [
    "# Add custom layers\n",
    "x = base_model.output\n",
    "x = GlobalAveragePooling2D()(x)\n",
    "x = Dense(1024, activation='relu')(x)\n",
    "x = Dropout(0.5)(x)\n",
    "predictions = Dense(len(class_labels), activation='softmax')(x)\n",
    "\n",
    "model = Model(inputs=base_model.input, outputs=predictions)\n"
   ]
  },
  {
   "cell_type": "code",
   "execution_count": 59,
   "metadata": {
    "executionInfo": {
     "elapsed": 13,
     "status": "ok",
     "timestamp": 1749112517315,
     "user": {
      "displayName": "Arifah Haminuddin",
      "userId": "03118848497063943085"
     },
     "user_tz": -480
    },
    "id": "Ip_REAEdabPg"
   },
   "outputs": [],
   "source": [
    "# Compile the model\n",
    "model.compile(optimizer=Adam(learning_rate=0.0001), loss='categorical_crossentropy', metrics=['accuracy'])\n"
   ]
  },
  {
   "cell_type": "code",
   "execution_count": 60,
   "metadata": {
    "colab": {
     "base_uri": "https://localhost:8080/"
    },
    "executionInfo": {
     "elapsed": 909465,
     "status": "ok",
     "timestamp": 1749113428337,
     "user": {
      "displayName": "Arifah Haminuddin",
      "userId": "03118848497063943085"
     },
     "user_tz": -480
    },
    "id": "emyY9ntQafyc",
    "outputId": "00b39e2f-eae0-4d8d-c717-e88e33861974"
   },
   "outputs": [
    {
     "name": "stderr",
     "output_type": "stream",
     "text": [
      "/usr/local/lib/python3.11/dist-packages/keras/src/trainers/data_adapters/py_dataset_adapter.py:121: UserWarning: Your `PyDataset` class should call `super().__init__(**kwargs)` in its constructor. `**kwargs` can include `workers`, `use_multiprocessing`, `max_queue_size`. Do not pass these arguments to `fit()`, as they will be ignored.\n",
      "  self._warn_if_super_not_called()\n"
     ]
    },
    {
     "name": "stdout",
     "output_type": "stream",
     "text": [
      "Epoch 1/50\n",
      "441/441 - 43s - 97ms/step - accuracy: 0.8019 - loss: 0.5111 - val_accuracy: 0.9663 - val_loss: 0.1426\n",
      "Epoch 2/50\n",
      "441/441 - 18s - 41ms/step - accuracy: 0.9543 - loss: 0.1455 - val_accuracy: 0.9782 - val_loss: 0.0828\n",
      "Epoch 3/50\n",
      "441/441 - 18s - 40ms/step - accuracy: 0.9736 - loss: 0.0891 - val_accuracy: 0.9855 - val_loss: 0.0601\n",
      "Epoch 4/50\n",
      "441/441 - 18s - 42ms/step - accuracy: 0.9852 - loss: 0.0606 - val_accuracy: 0.9850 - val_loss: 0.0495\n",
      "Epoch 5/50\n",
      "441/441 - 18s - 40ms/step - accuracy: 0.9850 - loss: 0.0501 - val_accuracy: 0.9836 - val_loss: 0.0467\n",
      "Epoch 6/50\n",
      "441/441 - 18s - 41ms/step - accuracy: 0.9921 - loss: 0.0369 - val_accuracy: 0.9855 - val_loss: 0.0436\n",
      "Epoch 7/50\n",
      "441/441 - 18s - 41ms/step - accuracy: 0.9946 - loss: 0.0261 - val_accuracy: 0.9884 - val_loss: 0.0382\n",
      "Epoch 8/50\n",
      "441/441 - 17s - 39ms/step - accuracy: 0.9938 - loss: 0.0223 - val_accuracy: 0.9901 - val_loss: 0.0332\n",
      "Epoch 9/50\n",
      "441/441 - 18s - 40ms/step - accuracy: 0.9969 - loss: 0.0173 - val_accuracy: 0.9892 - val_loss: 0.0300\n",
      "Epoch 10/50\n",
      "441/441 - 17s - 39ms/step - accuracy: 0.9972 - loss: 0.0152 - val_accuracy: 0.9881 - val_loss: 0.0326\n",
      "Epoch 11/50\n",
      "441/441 - 18s - 40ms/step - accuracy: 0.9969 - loss: 0.0136 - val_accuracy: 0.9878 - val_loss: 0.0311\n",
      "Epoch 12/50\n",
      "441/441 - 17s - 39ms/step - accuracy: 0.9980 - loss: 0.0102 - val_accuracy: 0.9898 - val_loss: 0.0273\n",
      "Epoch 13/50\n",
      "441/441 - 18s - 40ms/step - accuracy: 1.0000 - loss: 0.0064 - val_accuracy: 0.9889 - val_loss: 0.0320\n",
      "Epoch 14/50\n",
      "441/441 - 18s - 40ms/step - accuracy: 0.9994 - loss: 0.0062 - val_accuracy: 0.9898 - val_loss: 0.0260\n",
      "Epoch 15/50\n",
      "441/441 - 18s - 40ms/step - accuracy: 1.0000 - loss: 0.0053 - val_accuracy: 0.9895 - val_loss: 0.0287\n",
      "Epoch 16/50\n",
      "441/441 - 18s - 40ms/step - accuracy: 0.9994 - loss: 0.0047 - val_accuracy: 0.9912 - val_loss: 0.0279\n",
      "Epoch 17/50\n",
      "441/441 - 17s - 39ms/step - accuracy: 0.9983 - loss: 0.0058 - val_accuracy: 0.9870 - val_loss: 0.0322\n",
      "Epoch 18/50\n",
      "441/441 - 18s - 40ms/step - accuracy: 0.9986 - loss: 0.0057 - val_accuracy: 0.9901 - val_loss: 0.0265\n",
      "Epoch 19/50\n",
      "441/441 - 18s - 40ms/step - accuracy: 1.0000 - loss: 0.0030 - val_accuracy: 0.9921 - val_loss: 0.0221\n",
      "Epoch 20/50\n",
      "441/441 - 17s - 39ms/step - accuracy: 0.9994 - loss: 0.0032 - val_accuracy: 0.9836 - val_loss: 0.0413\n",
      "Epoch 21/50\n",
      "441/441 - 17s - 40ms/step - accuracy: 0.9997 - loss: 0.0027 - val_accuracy: 0.9915 - val_loss: 0.0256\n",
      "Epoch 22/50\n",
      "441/441 - 18s - 40ms/step - accuracy: 0.9997 - loss: 0.0024 - val_accuracy: 0.9912 - val_loss: 0.0242\n",
      "Epoch 23/50\n",
      "441/441 - 18s - 40ms/step - accuracy: 1.0000 - loss: 0.0016 - val_accuracy: 0.9912 - val_loss: 0.0234\n",
      "Epoch 24/50\n",
      "441/441 - 18s - 42ms/step - accuracy: 0.9997 - loss: 0.0023 - val_accuracy: 0.9901 - val_loss: 0.0281\n",
      "Epoch 25/50\n",
      "441/441 - 17s - 39ms/step - accuracy: 1.0000 - loss: 0.0010 - val_accuracy: 0.9892 - val_loss: 0.0306\n",
      "Epoch 26/50\n",
      "441/441 - 17s - 39ms/step - accuracy: 1.0000 - loss: 8.1613e-04 - val_accuracy: 0.9875 - val_loss: 0.0358\n",
      "Epoch 27/50\n",
      "441/441 - 18s - 40ms/step - accuracy: 1.0000 - loss: 6.0236e-04 - val_accuracy: 0.9904 - val_loss: 0.0288\n",
      "Epoch 28/50\n",
      "441/441 - 18s - 40ms/step - accuracy: 0.9994 - loss: 0.0030 - val_accuracy: 0.9881 - val_loss: 0.0348\n",
      "Epoch 29/50\n",
      "441/441 - 17s - 40ms/step - accuracy: 1.0000 - loss: 6.2176e-04 - val_accuracy: 0.9909 - val_loss: 0.0261\n",
      "Epoch 30/50\n",
      "441/441 - 18s - 40ms/step - accuracy: 1.0000 - loss: 9.3973e-04 - val_accuracy: 0.9898 - val_loss: 0.0275\n",
      "Epoch 31/50\n",
      "441/441 - 17s - 39ms/step - accuracy: 0.9997 - loss: 0.0012 - val_accuracy: 0.9878 - val_loss: 0.0361\n",
      "Epoch 32/50\n",
      "441/441 - 17s - 39ms/step - accuracy: 1.0000 - loss: 0.0010 - val_accuracy: 0.9912 - val_loss: 0.0270\n",
      "Epoch 33/50\n",
      "441/441 - 18s - 40ms/step - accuracy: 1.0000 - loss: 0.0010 - val_accuracy: 0.9912 - val_loss: 0.0250\n",
      "Epoch 34/50\n",
      "441/441 - 17s - 39ms/step - accuracy: 1.0000 - loss: 4.4464e-04 - val_accuracy: 0.9906 - val_loss: 0.0262\n",
      "Epoch 35/50\n",
      "441/441 - 17s - 39ms/step - accuracy: 1.0000 - loss: 3.3673e-04 - val_accuracy: 0.9915 - val_loss: 0.0251\n",
      "Epoch 36/50\n",
      "441/441 - 17s - 39ms/step - accuracy: 1.0000 - loss: 3.5314e-04 - val_accuracy: 0.9906 - val_loss: 0.0273\n",
      "Epoch 37/50\n",
      "441/441 - 18s - 41ms/step - accuracy: 1.0000 - loss: 2.2405e-04 - val_accuracy: 0.9906 - val_loss: 0.0298\n",
      "Epoch 38/50\n",
      "441/441 - 17s - 39ms/step - accuracy: 1.0000 - loss: 7.0157e-04 - val_accuracy: 0.9904 - val_loss: 0.0285\n",
      "Epoch 39/50\n",
      "441/441 - 18s - 40ms/step - accuracy: 1.0000 - loss: 9.4225e-04 - val_accuracy: 0.9918 - val_loss: 0.0257\n",
      "Epoch 40/50\n",
      "441/441 - 17s - 39ms/step - accuracy: 1.0000 - loss: 2.5947e-04 - val_accuracy: 0.9906 - val_loss: 0.0263\n",
      "Epoch 41/50\n",
      "441/441 - 18s - 41ms/step - accuracy: 1.0000 - loss: 6.6227e-04 - val_accuracy: 0.9923 - val_loss: 0.0275\n",
      "Epoch 42/50\n",
      "441/441 - 18s - 40ms/step - accuracy: 1.0000 - loss: 4.0634e-04 - val_accuracy: 0.9918 - val_loss: 0.0295\n",
      "Epoch 43/50\n",
      "441/441 - 18s - 40ms/step - accuracy: 1.0000 - loss: 1.9107e-04 - val_accuracy: 0.9932 - val_loss: 0.0292\n",
      "Epoch 44/50\n",
      "441/441 - 18s - 41ms/step - accuracy: 1.0000 - loss: 2.8959e-04 - val_accuracy: 0.9912 - val_loss: 0.0336\n",
      "Epoch 45/50\n",
      "441/441 - 17s - 40ms/step - accuracy: 0.9997 - loss: 8.1011e-04 - val_accuracy: 0.9906 - val_loss: 0.0310\n",
      "Epoch 46/50\n",
      "441/441 - 18s - 40ms/step - accuracy: 1.0000 - loss: 3.2160e-04 - val_accuracy: 0.9898 - val_loss: 0.0305\n",
      "Epoch 47/50\n",
      "441/441 - 17s - 39ms/step - accuracy: 1.0000 - loss: 2.4607e-04 - val_accuracy: 0.9921 - val_loss: 0.0298\n",
      "Epoch 48/50\n",
      "441/441 - 17s - 40ms/step - accuracy: 1.0000 - loss: 1.7678e-04 - val_accuracy: 0.9926 - val_loss: 0.0311\n",
      "Epoch 49/50\n",
      "441/441 - 18s - 40ms/step - accuracy: 1.0000 - loss: 1.2540e-04 - val_accuracy: 0.9909 - val_loss: 0.0294\n",
      "Epoch 50/50\n",
      "441/441 - 18s - 41ms/step - accuracy: 1.0000 - loss: 2.1649e-04 - val_accuracy: 0.9915 - val_loss: 0.0343\n"
     ]
    }
   ],
   "source": [
    "# Train the model\n",
    "start_time = time.time()\n",
    "history = model.fit(\n",
    "    train_batches,\n",
    "    validation_data=valid_batches,\n",
    "    epochs=50,\n",
    "    verbose=2\n",
    ")\n",
    "end_time = time.time()\n",
    "training_time = end_time - start_time"
   ]
  },
  {
   "cell_type": "code",
   "execution_count": 61,
   "metadata": {
    "colab": {
     "base_uri": "https://localhost:8080/",
     "height": 52
    },
    "executionInfo": {
     "elapsed": 10,
     "status": "ok",
     "timestamp": 1749113538835,
     "user": {
      "displayName": "Arifah Haminuddin",
      "userId": "03118848497063943085"
     },
     "user_tz": -480
    },
    "id": "cwmfq_gIcDHv",
    "outputId": "2691574d-7a90-482e-aebc-3059ffac67b7"
   },
   "outputs": [
    {
     "data": {
      "text/plain": [
       "<Figure size 1200x400 with 0 Axes>"
      ]
     },
     "execution_count": 61,
     "metadata": {},
     "output_type": "execute_result"
    },
    {
     "data": {
      "text/plain": [
       "<Figure size 1200x400 with 0 Axes>"
      ]
     },
     "metadata": {},
     "output_type": "display_data"
    }
   ],
   "source": [
    "# Plot training history\n",
    "plt.figure(figsize=(12, 4))"
   ]
  },
  {
   "cell_type": "code",
   "execution_count": 62,
   "metadata": {
    "colab": {
     "base_uri": "https://localhost:8080/",
     "height": 489
    },
    "executionInfo": {
     "elapsed": 181,
     "status": "ok",
     "timestamp": 1749113543619,
     "user": {
      "displayName": "Arifah Haminuddin",
      "userId": "03118848497063943085"
     },
     "user_tz": -480
    },
    "id": "VzoYQC1lcGj8",
    "outputId": "64708058-c0ba-49bc-e363-19eb55b52ebf"
   },
   "outputs": [
    {
     "data": {
      "text/plain": [
       "<matplotlib.legend.Legend at 0x7f8938775750>"
      ]
     },
     "execution_count": 62,
     "metadata": {},
     "output_type": "execute_result"
    },
    {
     "data": {
      "image/png": "[encoded data removed]",
      "text/plain": [
       "<Figure size 640x480 with 1 Axes>"
      ]
     },
     "metadata": {},
     "output_type": "display_data"
    }
   ],
   "source": [
    "# Accuracy plot\n",
    "plt.subplot(1, 2, 1)\n",
    "plt.plot(history.history['accuracy'], label='Train Accuracy')\n",
    "plt.plot(history.history['val_accuracy'], label='Validation Accuracy')\n",
    "plt.title('Model Accuracy')\n",
    "plt.xlabel('Epoch')\n",
    "plt.ylabel('Accuracy')\n",
    "plt.legend()"
   ]
  },
  {
   "cell_type": "code",
   "execution_count": 63,
   "metadata": {
    "colab": {
     "base_uri": "https://localhost:8080/",
     "height": 487
    },
    "executionInfo": {
     "elapsed": 325,
     "status": "ok",
     "timestamp": 1749113550369,
     "user": {
      "displayName": "Arifah Haminuddin",
      "userId": "03118848497063943085"
     },
     "user_tz": -480
    },
    "id": "V3S-2mH1cj5Q",
    "outputId": "3822936e-9179-4c32-a11c-3d9a368d6ea1"
   },
   "outputs": [
    {
     "data": {
      "image/png": "[encoded data removed]",
      "text/plain": [
       "<Figure size 640x480 with 1 Axes>"
      ]
     },
     "metadata": {},
     "output_type": "display_data"
    }
   ],
   "source": [
    "# Loss plot\n",
    "plt.subplot(1, 2, 2)\n",
    "plt.plot(history.history['loss'], label='Train Loss')\n",
    "plt.plot(history.history['val_loss'], label='Validation Loss')\n",
    "plt.title('Model Loss')\n",
    "plt.xlabel('Epoch')\n",
    "plt.ylabel('Loss')\n",
    "plt.legend()\n",
    "\n",
    "plt.tight_layout()\n",
    "plt.show()"
   ]
  },
  {
   "cell_type": "code",
   "execution_count": 64,
   "metadata": {
    "colab": {
     "base_uri": "https://localhost:8080/"
    },
    "executionInfo": {
     "elapsed": 1910,
     "status": "ok",
     "timestamp": 1749113555962,
     "user": {
      "displayName": "Arifah Haminuddin",
      "userId": "03118848497063943085"
     },
     "user_tz": -480
    },
    "id": "2QRgiZu8ctO3",
    "outputId": "b0af84b6-c383-4005-9e29-e65da6026550"
   },
   "outputs": [
    {
     "name": "stdout",
     "output_type": "stream",
     "text": [
      "✅ Test Accuracy: 98.33%\n"
     ]
    }
   ],
   "source": [
    "# Evaluate the model\n",
    "loss, accuracy = model.evaluate(test_batches, verbose=0)\n",
    "print(f'✅ Test Accuracy: {accuracy * 100:.2f}%')"
   ]
  },
  {
   "cell_type": "code",
   "execution_count": 65,
   "metadata": {
    "executionInfo": {
     "elapsed": 6144,
     "status": "ok",
     "timestamp": 1749113564902,
     "user": {
      "displayName": "Arifah Haminuddin",
      "userId": "03118848497063943085"
     },
     "user_tz": -480
    },
    "id": "tDMocD6afNvO"
   },
   "outputs": [],
   "source": [
    "# Confusion matrix\n",
    "predictions = model.predict(test_batches, verbose=0)\n",
    "predicted_classes = np.argmax(predictions, axis=1)\n",
    "cm = confusion_matrix(test_batches.classes, predicted_classes)"
   ]
  },
  {
   "cell_type": "code",
   "execution_count": 66,
   "metadata": {
    "colab": {
     "base_uri": "https://localhost:8080/",
     "height": 584
    },
    "executionInfo": {
     "elapsed": 191,
     "status": "ok",
     "timestamp": 1749113567019,
     "user": {
      "displayName": "Arifah Haminuddin",
      "userId": "03118848497063943085"
     },
     "user_tz": -480
    },
    "id": "0J3ZFg1tfXnR",
    "outputId": "ff2704c7-4a73-4ac0-da92-2755eeb92183"
   },
   "outputs": [
    {
     "data": {
      "image/png": "[encoded data removed]",
      "text/plain": [
       "<Figure size 600x600 with 2 Axes>"
      ]
     },
     "metadata": {},
     "output_type": "display_data"
    }
   ],
   "source": [
    "# Plot confusion matrix\n",
    "def plot_confusion_matrix(cm, classes, normalize=False, title='Confusion Matrix', cmap=plt.cm.Blues):\n",
    "    plt.figure(figsize=(6, 6))\n",
    "    plt.imshow(cm, interpolation='nearest', cmap=cmap)\n",
    "    plt.title(title)\n",
    "    plt.colorbar()\n",
    "    tick_marks = np.arange(len(classes))\n",
    "    plt.xticks(tick_marks, classes, rotation=45)\n",
    "    plt.yticks(tick_marks, classes)\n",
    "\n",
    "    fmt = '.2f' if normalize else 'd'\n",
    "    thresh = cm.max() / 2.\n",
    "\n",
    "    for i, j in itertools.product(range(cm.shape[0]), range(cm.shape[1])):\n",
    "        plt.text(j, i, format(cm[i, j], fmt),\n",
    "                 horizontalalignment=\"center\",\n",
    "                 color=\"white\" if cm[i, j] > thresh else \"black\")\n",
    "\n",
    "    plt.ylabel('True Label')\n",
    "    plt.xlabel('Predicted Label')\n",
    "    plt.tight_layout()\n",
    "\n",
    "plot_confusion_matrix(cm=cm, classes=class_labels, title='Confusion Matrix')\n",
    "plt.show()"
   ]
  },
  {
   "cell_type": "code",
   "execution_count": 67,
   "metadata": {
    "colab": {
     "base_uri": "https://localhost:8080/"
    },
    "executionInfo": {
     "elapsed": 1823,
     "status": "ok",
     "timestamp": 1749113573421,
     "user": {
      "displayName": "Arifah Haminuddin",
      "userId": "03118848497063943085"
     },
     "user_tz": -480
    },
    "id": "E5LwcKVpfqTO",
    "outputId": "7a34904d-6253-4f66-c487-180e39a86285"
   },
   "outputs": [
    {
     "name": "stdout",
     "output_type": "stream",
     "text": [
      "✅ Test Accuracy: 98.33%\n",
      "✅ Mean Average Precision (mAP): 0.9988\n",
      "⏱️ Total Training Time: 909.47 seconds\n"
     ]
    }
   ],
   "source": [
    "# Test Accuracy \n",
    "loss, accuracy = model.evaluate(test_batches, verbose=0)\n",
    "print(f'✅ Test Accuracy: {accuracy * 100:.2f}%')\n",
    "\n",
    "# mAP\n",
    "y_true = test_batches.classes\n",
    "y_scores = predictions\n",
    "map_score = average_precision_score(tf.keras.utils.to_categorical(y_true), y_scores, average='macro')\n",
    "print(f\"✅ Mean Average Precision (mAP): {map_score:.4f}\")\n",
    "\n",
    "# Training Time\n",
    "print(f\"⏱️ Total Training Time: {training_time:.2f} seconds\")"
   ]
  },
  {
   "cell_type": "markdown",
   "metadata": {
    "id": "cMVhO78JqclC"
   },
   "source": [
    "**Conclusion**\n",
    "\n",
    "Based on the evaluation that has been made, it is found that the best suited for this classification task is MobileNetV3. This is because it has a strong balance in terms of test accuracy which is 98.33% which is almost as high as ResNet50. Not only that, it also has a good mean average precision which is 0.9988 which is very close to the best. Finally, it has an efficient training time which is 909.47 seconds making it accurate and lightweight compared to other models.\n",
    "\n",
    "DenseNet121 was not chosen because although it can achieve high test accuracy of 98.75% and good mAP of 0.9995, it has lower performance than MobileNetV3 and bigger training time than MobileNetV3 which is 1016.08 seconds.Moreover, the DenseNet121 model is a heavier model with many parameters which makes it less efficient.\n",
    "\n",
    "ResNet50 was not chosen because although it got a high test accuracy of 99.03% and a good mAP of 0.9997 but the training time was very large because it was over 1 billion seconds which showed that it was not efficient in the training process.\n",
    "\n",
    "In conclusion, while all three provide good accuracy and mAP, MobileNetV3 offers better accuracy, parameters, mAP and training time making it the most suitable for this classification task."
   ]
  }
 ],
 "metadata": {
  "accelerator": "GPU",
  "colab": {
   "authorship_tag": "ABX9TyO0BlanE5X8mUnU97wKce6B",
   "gpuType": "L4",
   "mount_file_id": "1a4aU46Cd0mtoQgrWyHQIxkf8e0xhJaxZ",
   "provenance": []
  },
  "kernelspec": {
   "display_name": "Python 3 (ipykernel)",
   "language": "python",
   "name": "python3"
  },
  "language_info": {
   "codemirror_mode": {
    "name": "ipython",
    "version": 3
   },
   "file_extension": ".py",
   "mimetype": "text/x-python",
   "name": "python",
   "nbconvert_exporter": "python",
   "pygments_lexer": "ipython3",
   "version": "3.12.7"
  }
 },
 "nbformat": 4,
 "nbformat_minor": 4
}
